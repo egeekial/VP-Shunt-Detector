{
 "cells": [
  {
   "cell_type": "markdown",
   "id": "38650dae",
   "metadata": {},
   "source": [
    "# VP Shunt Valve Detector – Gradio Inference Demo\n",
    "\n",
    "This notebook demonstrates how to load the fine‑tuned YOLOv8‑large model for VP shunt valve detection and run an interactive Gradio UI."
   ]
  },
  {
   "cell_type": "code",
   "execution_count": null,
   "id": "a15894f5",
   "metadata": {},
   "outputs": [],
   "source": [
    "# Install dependencies (uncomment if running on a fresh environment)\n",
    "#!pip install ultralytics gradio opencv-python"
   ]
  },
  {
   "cell_type": "code",
   "execution_count": null,
   "id": "f8d552d3",
   "metadata": {},
   "outputs": [],
   "source": [
    "from ultralytics import YOLO\n",
    "import gradio as gr\n",
    "from PIL import Image\n",
    "\n",
    "# Load model – adjust the path if needed\n",
    "model = YOLO('../weights/vpshunt_yolov8l.pt')"
   ]
  },
  {
   "cell_type": "code",
   "execution_count": null,
   "id": "db8596f0",
   "metadata": {},
   "outputs": [],
   "source": [
    "def predict(img):\n",
    "    \"\"\"Run inference on a PIL image and return a plotted result.\"\"\"\n",
    "    results = model(img, conf=0.25)\n",
    "    return results[0].plot()\n",
    "\n",
    "interface = gr.Interface(\n",
    "    fn=predict,\n",
    "    inputs=gr.Image(type='pil', label='Skull Radiograph'),\n",
    "    outputs=gr.Image(label='Detections'),\n",
    "    title='VP Shunt Valve Detector',\n",
    "    description='Upload a skull radiograph to detect and classify VP shunt valves.'\n",
    ")\n",
    "interface.launch(share=False)"
   ]
  },
  {
   "cell_type": "markdown",
   "id": "6c1c77c9",
   "metadata": {},
   "source": [
    "**Tip:** If running in a cloud notebook (e.g., Colab), set `share=True` in `Interface.launch()` to get a public link.\n",
    "\n",
    "---\n",
    "\n",
    "### Fine‑tune on your own data\n",
    "Refer to the project README for instructions on continuing training with additional classes or images."
   ]
  }
 ],
 "metadata": {
  "kernelspec": {
   "display_name": "base",
   "language": "python",
   "name": "python3"
  },
  "language_info": {
   "codemirror_mode": {
    "name": "ipython",
    "version": 3
   },
   "file_extension": ".py",
   "mimetype": "text/x-python",
   "name": "python",
   "nbconvert_exporter": "python",
   "pygments_lexer": "ipython3",
   "version": "3.11.8"
  }
 },
 "nbformat": 4,
 "nbformat_minor": 5
}
